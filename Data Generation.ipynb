{
 "cells": [
  {
   "cell_type": "code",
   "execution_count": 299,
   "id": "b2e6edc5",
   "metadata": {},
   "outputs": [],
   "source": [
    "import RNA\n",
    "import random\n",
    "import networkx as nx\n",
    "import matplotlib.pyplot as plt\n",
    "from pyvis.network import Network\n",
    "from IPython.display import clear_output"
   ]
  },
  {
   "cell_type": "code",
   "execution_count": 33,
   "id": "61307b8c",
   "metadata": {},
   "outputs": [],
   "source": [
    "def generateRNA(length):\n",
    "    bases = 'ACGU'\n",
    "    return ''.join(random.choice(bases) for _ in range(length))"
   ]
  },
  {
   "cell_type": "code",
   "execution_count": 99,
   "id": "04e89d14",
   "metadata": {},
   "outputs": [],
   "source": [
    "def mutateRNASequence(sequence, n=1):\n",
    "    bases = 'ACGU'\n",
    "    sequence = list(sequence.upper())\n",
    "    positions = random.sample(range(len(sequence)), n)\n",
    "    \n",
    "    for pos in positions:\n",
    "        original_base = sequence[pos]\n",
    "        new_base = random.choice([b for b in bases if b != original_base])\n",
    "        sequence[pos] = new_base\n",
    "    \n",
    "    return ''.join(sequence)"
   ]
  },
  {
   "cell_type": "code",
   "execution_count": 100,
   "id": "0f5e9315",
   "metadata": {},
   "outputs": [],
   "source": [
    "def isOneCharDiff(s1, s2):\n",
    "    if len(s1) != len(s2):\n",
    "        return False\n",
    "    count_diff = 0\n",
    "    for a, b in zip(s1, s2):\n",
    "        if a != b:\n",
    "            count_diff += 1\n",
    "            if count_diff > 1:\n",
    "                return False\n",
    "    return count_diff == 1"
   ]
  },
  {
   "cell_type": "code",
   "execution_count": 133,
   "id": "a05c2aeb",
   "metadata": {},
   "outputs": [],
   "source": [
    "def character_difference(s1, s2):\n",
    "    return sum(1 for a, b in zip(s1, s2) if a != b)"
   ]
  },
  {
   "cell_type": "code",
   "execution_count": 171,
   "id": "264964fa",
   "metadata": {},
   "outputs": [],
   "source": [
    "seqList = []\n",
    "def runSimulation()\n",
    "for i in range(10):\n",
    "    s = generateRNA(100)\n",
    "    seqList +=[s]\n",
    "    for j in range(10):\n",
    "        s_ = mutateRNASequence(s, 1)\n",
    "        seqList += [s_]\n",
    "        "
   ]
  },
  {
   "cell_type": "code",
   "execution_count": 279,
   "id": "1cdaa62a",
   "metadata": {},
   "outputs": [],
   "source": [
    "def runSimulation(pool=None):\n",
    "    seqList = []\n",
    "    if pool is not None:\n",
    "        for s in pool:\n",
    "            s_ = mutateRNASequence(s, 1)\n",
    "            seqList += [s_]\n",
    "        seqList += pool\n",
    "    else:\n",
    "        count = 0\n",
    "        for i in range(10):\n",
    "            s = generateRNA(100)\n",
    "            \n",
    "            for j in range(10):\n",
    "                s_ = mutateRNASequence(s, 1)\n",
    "                seqList += [s_]\n",
    "            seqList +=[s]\n",
    "            \n",
    "    return list(set(seqList))"
   ]
  },
  {
   "cell_type": "code",
   "execution_count": 296,
   "id": "bb822ecf",
   "metadata": {},
   "outputs": [],
   "source": [
    "ROUNDS = 7\n",
    "seqList = None\n",
    "for robin in range(ROUNDS):\n",
    "    seqList = runSimulation(seqList)"
   ]
  },
  {
   "cell_type": "code",
   "execution_count": 297,
   "id": "ae078541",
   "metadata": {},
   "outputs": [
    {
     "data": {
      "text/plain": [
       "6630"
      ]
     },
     "execution_count": 297,
     "metadata": {},
     "output_type": "execute_result"
    }
   ],
   "source": [
    "len(seqList)"
   ]
  },
  {
   "cell_type": "code",
   "execution_count": 282,
   "id": "89bdc81c",
   "metadata": {},
   "outputs": [],
   "source": []
  },
  {
   "cell_type": "code",
   "execution_count": 306,
   "id": "c78775bf",
   "metadata": {},
   "outputs": [
    {
     "name": "stdout",
     "output_type": "stream",
     "text": [
      "6630/6630\n"
     ]
    }
   ],
   "source": [
    "seqCards = []\n",
    "for idx, seq in enumerate(seqList):\n",
    "    clear_output(wait=True)\n",
    "    print(f\"{idx+1}/{len(seqList)}\")\n",
    "    card = {\n",
    "        \"seq\": seq,\n",
    "        \"mfe\": RNA.fold(seq)[1]\n",
    "    }\n",
    "    seqCards.append(card)"
   ]
  },
  {
   "cell_type": "code",
   "execution_count": 314,
   "id": "643823fc",
   "metadata": {},
   "outputs": [],
   "source": [
    "def createGraphFromList(seq_list):\n",
    "    G = nx.Graph()\n",
    "    \n",
    "    # Add nodes for each sequence in the list, ensuring mfe is a float\n",
    "    for item in seq_list:\n",
    "        G.add_node(item['seq'], mfe=float(item['mfe']))\n",
    "    \n",
    "    # Create edges based on single character difference\n",
    "    for i in range(len(seq_list)):\n",
    "        for j in range(i + 1, len(seq_list)):\n",
    "            diff = character_difference(seq_list[i]['seq'], seq_list[j]['seq'])\n",
    "            if len(diff) == 1:  # Only add edge if there's exactly one difference\n",
    "                idx, char = next(iter(diff.items()))  # Get the single item from the dict\n",
    "                # Store the difference as a string\n",
    "                difference_str = f\"{char},{idx}\"\n",
    "                G.add_edge(seq_list[i]['seq'], seq_list[j]['seq'], difference=difference_str)\n",
    "    \n",
    "    return G"
   ]
  },
  {
   "cell_type": "code",
   "execution_count": 315,
   "id": "63ef6912",
   "metadata": {},
   "outputs": [],
   "source": [
    "G = createGraphFromList(seqCards)"
   ]
  },
  {
   "cell_type": "code",
   "execution_count": 317,
   "id": "ab42be84",
   "metadata": {},
   "outputs": [],
   "source": [
    "net = Network()"
   ]
  },
  {
   "cell_type": "code",
   "execution_count": 325,
   "id": "c8c26284",
   "metadata": {},
   "outputs": [],
   "source": [
    "for node, data in G.nodes(data=True):\n",
    "    net.add_node(node, title=f\"{data['mfe']}\")\n",
    "\n",
    "for src, dst, data in G.edges(data=True):\n",
    "    diff = data['difference']\n",
    "    label = f\"{diff}\"\n",
    "    net.add_edge(src, dst, label=label, title=f\"Difference: {label}\")"
   ]
  },
  {
   "cell_type": "code",
   "execution_count": 267,
   "id": "3ed7aed5",
   "metadata": {},
   "outputs": [],
   "source": [
    "# net.toggle_physics(True)\n",
    "# net.show_buttons(filter_=['physics'])"
   ]
  },
  {
   "cell_type": "code",
   "execution_count": 316,
   "id": "ccfa703c",
   "metadata": {},
   "outputs": [],
   "source": [
    "nx.write_graphml_lxml(G, \"mRNA.graphml\")"
   ]
  },
  {
   "cell_type": "code",
   "execution_count": 326,
   "id": "7ce2f861",
   "metadata": {
    "scrolled": true
   },
   "outputs": [
    {
     "name": "stdout",
     "output_type": "stream",
     "text": [
      "sequence_graph.html\n"
     ]
    }
   ],
   "source": [
    "net.show(\"sequence_graph.html\", notebook=False)"
   ]
  },
  {
   "cell_type": "code",
   "execution_count": null,
   "id": "acd122bf",
   "metadata": {},
   "outputs": [],
   "source": []
  }
 ],
 "metadata": {
  "kernelspec": {
   "display_name": "Python 3 (ipykernel)",
   "language": "python",
   "name": "python3"
  },
  "language_info": {
   "codemirror_mode": {
    "name": "ipython",
    "version": 3
   },
   "file_extension": ".py",
   "mimetype": "text/x-python",
   "name": "python",
   "nbconvert_exporter": "python",
   "pygments_lexer": "ipython3",
   "version": "3.11.5"
  }
 },
 "nbformat": 4,
 "nbformat_minor": 5
}
