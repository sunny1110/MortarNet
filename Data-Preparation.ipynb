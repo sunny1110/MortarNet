{
 "cells": [
  {
   "cell_type": "code",
   "execution_count": 71,
   "id": "1155ff67",
   "metadata": {},
   "outputs": [
    {
     "name": "stderr",
     "output_type": "stream",
     "text": [
      "/home/prithvi/anaconda3/lib/python3.11/site-packages/pandas/core/arrays/masked.py:60: UserWarning: Pandas requires version '1.3.6' or newer of 'bottleneck' (version '1.3.5' currently installed).\n",
      "  from pandas.core import (\n"
     ]
    }
   ],
   "source": [
    "import networkx\n",
    "import pandas as pd"
   ]
  },
  {
   "cell_type": "code",
   "execution_count": 2,
   "id": "7e8bdeb5",
   "metadata": {},
   "outputs": [],
   "source": [
    "graph = networkx.read_graphml(\"./mRNA.graphml\")"
   ]
  },
  {
   "cell_type": "code",
   "execution_count": 72,
   "id": "d4e77e0e",
   "metadata": {},
   "outputs": [],
   "source": [
    "def buildDataset(graph):\n",
    "    sequences, indices, targets, mfe_pre, mfe_post, mutant = [], [], [], [], [], []\n",
    "    for node in graph.nodes(data=True):\n",
    "        nodeName = node[0]\n",
    "        mfeNode = node[1][\"mfe\"]\n",
    "        for neighbor in graph.neighbors(nodeName):\n",
    "            edgeData = graph.get_edge_data(nodeName, neighbor)[\"difference\"]\n",
    "            target, index = edgeData.split(\",\")\n",
    "            mfeNeighbor = graph.nodes[neighbor][\"mfe\"]\n",
    "            sequences.append(nodeName)\n",
    "            indices.append(index)\n",
    "            targets.append(target)\n",
    "            mfe_pre.append(mfeNode)\n",
    "            mfe_post.append(mfeNeighbor)\n",
    "            mutant.append(neighbor)\n",
    "    \n",
    "    dataset = {\n",
    "        \"sequence\": sequences,\n",
    "        \"mfe_pre\": mfe_pre,\n",
    "        \"mutation_base\": targets,\n",
    "        \"mutation_index\": indices,\n",
    "        \"mutated_sequence\": mutant,\n",
    "        \"mfe_mutant\": mfe_post\n",
    "    }\n",
    "    return dataset\n",
    "    "
   ]
  },
  {
   "cell_type": "code",
   "execution_count": 73,
   "id": "6d77c7eb",
   "metadata": {},
   "outputs": [],
   "source": [
    "dataset = buildDataset(graph)"
   ]
  },
  {
   "cell_type": "code",
   "execution_count": 76,
   "id": "796df02b",
   "metadata": {},
   "outputs": [],
   "source": [
    "df = pd.DataFrame(dataset)"
   ]
  },
  {
   "cell_type": "code",
   "execution_count": 90,
   "id": "2b9fa2d5",
   "metadata": {},
   "outputs": [],
   "source": [
    "df.to_csv('dataset.csv', index=False)"
   ]
  },
  {
   "cell_type": "code",
   "execution_count": null,
   "id": "b3b46a38",
   "metadata": {},
   "outputs": [],
   "source": []
  }
 ],
 "metadata": {
  "kernelspec": {
   "display_name": "Python 3 (ipykernel)",
   "language": "python",
   "name": "python3"
  },
  "language_info": {
   "codemirror_mode": {
    "name": "ipython",
    "version": 3
   },
   "file_extension": ".py",
   "mimetype": "text/x-python",
   "name": "python",
   "nbconvert_exporter": "python",
   "pygments_lexer": "ipython3",
   "version": "3.11.5"
  }
 },
 "nbformat": 4,
 "nbformat_minor": 5
}
